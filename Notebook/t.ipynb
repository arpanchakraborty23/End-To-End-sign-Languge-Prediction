{
 "cells": [
  {
   "cell_type": "code",
   "execution_count": 7,
   "metadata": {},
   "outputs": [],
   "source": [
    "import os\n",
    "import sys\n",
    "\n",
    "from signLanguage.entity.config_entity import DataIngestionConfig\n",
    "from signLanguage.constant.ymal_path import *\n",
    "from signLanguage.logger.logger import logging\n",
    "from signLanguage.exception.exception import CustomException\n",
    "from signLanguage.utils.utils import read_yaml, create_dir\n",
    "\n",
    "\n",
    "class ConfigManager:\n",
    "    def __init__(self, config_file_path=config_file) -> None:\n",
    "        self.config = read_yaml(config_file_path)\n",
    "\n",
    "        create_dir([self.config.artifats_root])\n",
    "\n",
    "    def data_ingestion_config(self):\n",
    "        try:\n",
    "            config = self.config.Data_Ingestion\n",
    "            create_dir(config.dir)\n",
    "\n",
    "            data_ingestion_config = DataIngestionConfig(\n",
    "                dir=config.dir,\n",
    "                url=config.url,\n",
    "                local_floder=config.local_folder,\n",
    "                unzip_floder=config.unzip_folder\n",
    "            )\n",
    "\n",
    "            return data_ingestion_config\n",
    "\n",
    "        except Exception as e:\n",
    "            logging.info('error occured ', str(e))\n",
    "            raise CustomException(sys, e)"
   ]
  },
  {
   "cell_type": "code",
   "execution_count": 1,
   "metadata": {},
   "outputs": [
    {
     "data": {
      "text/plain": [
       "'e:\\\\computer vision\\\\object_detaction\\\\End-To-End-sign-Languge-Prediction\\\\Notebook'"
      ]
     },
     "execution_count": 1,
     "metadata": {},
     "output_type": "execute_result"
    }
   ],
   "source": [
    "pwd"
   ]
  },
  {
   "cell_type": "code",
   "execution_count": 2,
   "metadata": {},
   "outputs": [],
   "source": [
    "import os\n",
    "os.chdir('../')"
   ]
  },
  {
   "cell_type": "code",
   "execution_count": 3,
   "metadata": {},
   "outputs": [
    {
     "data": {
      "text/plain": [
       "'e:\\\\computer vision\\\\object_detaction\\\\End-To-End-sign-Languge-Prediction'"
      ]
     },
     "execution_count": 3,
     "metadata": {},
     "output_type": "execute_result"
    }
   ],
   "source": [
    "pwd"
   ]
  },
  {
   "cell_type": "code",
   "execution_count": 4,
   "metadata": {},
   "outputs": [],
   "source": [
    "import yaml"
   ]
  },
  {
   "cell_type": "code",
   "execution_count": 8,
   "metadata": {},
   "outputs": [],
   "source": [
    "from ensure import ensure_annotations\n",
    "\n",
    "\n",
    "def read_yaml(file_path):\n",
    "    try:\n",
    "        logging.info(f' read file {file_path}')\n",
    "        with open(file_path, 'r') as y:\n",
    "            content = yaml.safe_load(y)\n",
    "            logging.info(f\"yaml file: {file_path} loaded successfully\")\n",
    "\n",
    "        return content\n",
    "    except Exception as e:\n",
    "        logging.info(f'error occured {str(e)}')\n",
    "        raise CustomException(sys, e)\n",
    "\n",
    "\n",
    "@ensure_annotations\n",
    "def create_dir(path_to_dir: list, verbose=True):\n",
    "    try:\n",
    "        for path in path_to_dir:\n",
    "            os.makedirs(path, exist_ok=True)\n",
    "            if verbose:\n",
    "                logging.info(f\"created directory at: {path}\")\n",
    "\n",
    "    except Exception as e:\n",
    "        logging.info('error occured ', str(e))\n",
    "        raise CustomException(sys, e)"
   ]
  },
  {
   "cell_type": "code",
   "execution_count": 19,
   "metadata": {},
   "outputs": [
    {
     "ename": "BoxKeyError",
     "evalue": "\"'artifacts_root'\"",
     "output_type": "error",
     "traceback": [
      "\u001b[1;31m---------------------------------------------------------------------------\u001b[0m",
      "\u001b[1;31mKeyError\u001b[0m                                  Traceback (most recent call last)",
      "File \u001b[1;32m~\\AppData\\Roaming\\Python\\Python311\\site-packages\\box\\box.py:592\u001b[0m, in \u001b[0;36mbox.box.Box.__getitem__\u001b[1;34m()\u001b[0m\n",
      "\u001b[1;31mKeyError\u001b[0m: 'artifacts_root'",
      "\nThe above exception was the direct cause of the following exception:\n",
      "\u001b[1;31mBoxKeyError\u001b[0m                               Traceback (most recent call last)",
      "Cell \u001b[1;32mIn[19], line 2\u001b[0m\n\u001b[0;32m      1\u001b[0m config\u001b[38;5;241m=\u001b[39mread_yaml(config_file)\n\u001b[1;32m----> 2\u001b[0m create_dir(\u001b[43mconfig\u001b[49m\u001b[43m[\u001b[49m\u001b[38;5;124;43m'\u001b[39;49m\u001b[38;5;124;43martifacts_root\u001b[39;49m\u001b[38;5;124;43m'\u001b[39;49m\u001b[43m]\u001b[49m)\n",
      "File \u001b[1;32m~\\AppData\\Roaming\\Python\\Python311\\site-packages\\box\\box.py:619\u001b[0m, in \u001b[0;36mbox.box.Box.__getitem__\u001b[1;34m()\u001b[0m\n",
      "\u001b[1;31mBoxKeyError\u001b[0m: \"'artifacts_root'\""
     ]
    }
   ],
   "source": [
    "config = read_yaml(config_file)\n",
    "create_dir(config['artifacts_root'])"
   ]
  },
  {
   "cell_type": "code",
   "execution_count": 11,
   "metadata": {},
   "outputs": [],
   "source": [
    "from ensure import ensure_annotations\n",
    "from box import ConfigBox\n",
    "\n",
    "\n",
    "@ensure_annotations\n",
    "def read_yaml(path_to_yaml: Path) -> ConfigBox:\n",
    "\n",
    "    try:\n",
    "        with open(path_to_yaml) as yaml_file:\n",
    "            content = yaml.safe_load(yaml_file)\n",
    "            logging.info(f\"yaml file: {path_to_yaml} loaded successfully\")\n",
    "            return ConfigBox(content)\n",
    "\n",
    "    except Exception as e:\n",
    "        raise e\n",
    "\n",
    "\n",
    "@ensure_annotations\n",
    "def create_dir(path_to_dir: list, verbose=True):\n",
    "\n",
    "    for path in path_to_dir:\n",
    "        os.makedirs(path, exist_ok=True)\n",
    "        if verbose:\n",
    "            logging.info(f\"created directory at: {path}\")"
   ]
  },
  {
   "cell_type": "code",
   "execution_count": 12,
   "metadata": {},
   "outputs": [],
   "source": [
    "config = read_yaml(config_file)"
   ]
  },
  {
   "cell_type": "code",
   "execution_count": 15,
   "metadata": {},
   "outputs": [
    {
     "name": "stdout",
     "output_type": "stream",
     "text": [
      "{'artifats_root': 'artifacts', 'Data_Ingestion': {'dir': 'artifacts/data_ingestion', 'url': 'https://drive.google.com/drive/folders/1Hq6DnS3brg57ITAlAgUVpjRwTj3Cp4Sb?usp=sharing', 'local_folder': 'artifacts/data_ingestion/data.zip', 'unzip_folder': 'artifacts/data_ingestion'}}\n"
     ]
    }
   ],
   "source": [
    "print(config)"
   ]
  },
  {
   "cell_type": "code",
   "execution_count": 18,
   "metadata": {},
   "outputs": [
    {
     "ename": "NameError",
     "evalue": "name 'artifats_root' is not defined",
     "output_type": "error",
     "traceback": [
      "\u001b[1;31m---------------------------------------------------------------------------\u001b[0m",
      "\u001b[1;31mNameError\u001b[0m                                 Traceback (most recent call last)",
      "Cell \u001b[1;32mIn[18], line 1\u001b[0m\n\u001b[1;32m----> 1\u001b[0m create_dir(\u001b[43martifats_root\u001b[49m)\n",
      "\u001b[1;31mNameError\u001b[0m: name 'artifats_root' is not defined"
     ]
    }
   ],
   "source": [
    "create_dir(artifats_root)"
   ]
  },
  {
   "cell_type": "code",
   "execution_count": 20,
   "metadata": {},
   "outputs": [],
   "source": [
    "@ensure_annotations\n",
    "def create_directories(path_to_directories: list, verbose=True):\n",
    "    \"\"\"create list of directories\n",
    "\n",
    "    Args:\n",
    "        path_to_directories (list): list of path of directories\n",
    "        ignore_log (bool, optional): ignore if multiple dirs is to be created. Defaults to False.\n",
    "    \"\"\"\n",
    "    for path in path_to_directories:\n",
    "        os.makedirs(path, exist_ok=True)\n",
    "        if verbose:\n",
    "            logging.info(f\"created directory at: {path}\")"
   ]
  },
  {
   "cell_type": "code",
   "execution_count": 21,
   "metadata": {},
   "outputs": [
    {
     "ename": "BoxKeyError",
     "evalue": "\"'artifacts_root'\"",
     "output_type": "error",
     "traceback": [
      "\u001b[1;31m---------------------------------------------------------------------------\u001b[0m",
      "\u001b[1;31mKeyError\u001b[0m                                  Traceback (most recent call last)",
      "File \u001b[1;32m~\\AppData\\Roaming\\Python\\Python311\\site-packages\\box\\box.py:592\u001b[0m, in \u001b[0;36mbox.box.Box.__getitem__\u001b[1;34m()\u001b[0m\n",
      "\u001b[1;31mKeyError\u001b[0m: 'artifacts_root'",
      "\nThe above exception was the direct cause of the following exception:\n",
      "\u001b[1;31mBoxKeyError\u001b[0m                               Traceback (most recent call last)",
      "Cell \u001b[1;32mIn[21], line 2\u001b[0m\n\u001b[0;32m      1\u001b[0m config\u001b[38;5;241m=\u001b[39mread_yaml(config_file)\n\u001b[1;32m----> 2\u001b[0m create_dir(\u001b[43mconfig\u001b[49m\u001b[43m[\u001b[49m\u001b[38;5;124;43m'\u001b[39;49m\u001b[38;5;124;43martifacts_root\u001b[39;49m\u001b[38;5;124;43m'\u001b[39;49m\u001b[43m]\u001b[49m)\n",
      "File \u001b[1;32m~\\AppData\\Roaming\\Python\\Python311\\site-packages\\box\\box.py:619\u001b[0m, in \u001b[0;36mbox.box.Box.__getitem__\u001b[1;34m()\u001b[0m\n",
      "\u001b[1;31mBoxKeyError\u001b[0m: \"'artifacts_root'\""
     ]
    }
   ],
   "source": [
    "config = read_yaml(config_file)\n",
    "create_dir(config['artifacts_root'])"
   ]
  },
  {
   "cell_type": "code",
   "execution_count": 22,
   "metadata": {},
   "outputs": [],
   "source": [
    "import gdown\n",
    "import zipfile"
   ]
  },
  {
   "cell_type": "code",
   "execution_count": 31,
   "metadata": {},
   "outputs": [],
   "source": [
    "import os,sys\n",
    "import gdown\n",
    "import zipfile\n",
    "\n",
    "from signLanguage.logger.logger import logging\n",
    "from signLanguage.exception.exception import CustomException\n",
    "from signLanguage.configuration.config_manager import ConfigManager\n",
    "\n",
    "\n",
    "class DataIngestion:\n",
    "    def __init__(self) -> None:\n",
    "        config=ConfigManager()\n",
    "        self.config=config.data_ingestion_config()\n",
    "\n",
    "        logging.info('---------------------------- Data Ingestion Has Started --------------------------')\n",
    "\n",
    "    def initate_data_ingestion(self):\n",
    "        try:\n",
    "            # download data\n",
    "\n",
    "            # folder url\n",
    "            data_url=self.config.url\n",
    "            # local download folder\n",
    "            local_folder=self.config.local_floder\n",
    "            os.makedirs(self.config.dir,exist_ok=True)\n",
    "\n",
    "            prefix='https://drive.google.com/uc?/export=download&id='\n",
    "            id=data_url.split('/')[5]\n",
    "            print(id)\n",
    "\n",
    "            # download data\n",
    "            gdown.download(prefix+id,local_folder)\n",
    "\n",
    "            # extract zip file\n",
    "\n",
    "            unzip_folder=self.config.unzip_floder\n",
    "            with zipfile.ZipFile(local_folder,'r') as z:\n",
    "                z.extractall(unzip_folder)\n",
    "\n",
    "            logging.info('---------------------------- Data Ingestion Completed--------------------------')\n",
    "\n",
    "        except Exception as e:\n",
    "            logging.info('error occured ',str(e))\n",
    "            raise CustomException(sys,e)"
   ]
  },
  {
   "cell_type": "code",
   "execution_count": 32,
   "metadata": {},
   "outputs": [
    {
     "name": "stderr",
     "output_type": "stream",
     "text": [
      "--- Logging error ---\n",
      "Traceback (most recent call last):\n",
      "  File \"C:\\Users\\www58\\AppData\\Local\\Temp\\ipykernel_9856\\4288450823.py\", line 6, in initate_data_ingestion\n",
      "    data_url=self.config.url\n",
      "             ^^^^\n",
      "NameError: name 'self' is not defined\n",
      "\n",
      "During handling of the above exception, another exception occurred:\n",
      "\n",
      "Traceback (most recent call last):\n",
      "  File \"e:\\computer vision\\cv\\Lib\\logging\\__init__.py\", line 1110, in emit\n",
      "    msg = self.format(record)\n",
      "          ^^^^^^^^^^^^^^^^^^^\n",
      "  File \"e:\\computer vision\\cv\\Lib\\logging\\__init__.py\", line 953, in format\n",
      "    return fmt.format(record)\n",
      "           ^^^^^^^^^^^^^^^^^^\n",
      "  File \"e:\\computer vision\\cv\\Lib\\logging\\__init__.py\", line 687, in format\n",
      "    record.message = record.getMessage()\n",
      "                     ^^^^^^^^^^^^^^^^^^^\n",
      "  File \"e:\\computer vision\\cv\\Lib\\logging\\__init__.py\", line 377, in getMessage\n",
      "    msg = msg % self.args\n",
      "          ~~~~^~~~~~~~~~~\n",
      "TypeError: not all arguments converted during string formatting\n",
      "Call stack:\n",
      "  File \"<frozen runpy>\", line 198, in _run_module_as_main\n",
      "  File \"<frozen runpy>\", line 88, in _run_code\n",
      "  File \"e:\\computer vision\\cv\\Lib\\site-packages\\ipykernel_launcher.py\", line 18, in <module>\n",
      "    app.launch_new_instance()\n",
      "  File \"e:\\computer vision\\cv\\Lib\\site-packages\\traitlets\\config\\application.py\", line 1075, in launch_instance\n",
      "    app.start()\n",
      "  File \"e:\\computer vision\\cv\\Lib\\site-packages\\ipykernel\\kernelapp.py\", line 739, in start\n",
      "    self.io_loop.start()\n",
      "  File \"e:\\computer vision\\cv\\Lib\\site-packages\\tornado\\platform\\asyncio.py\", line 205, in start\n",
      "    self.asyncio_loop.run_forever()\n",
      "  File \"e:\\computer vision\\cv\\Lib\\asyncio\\base_events.py\", line 604, in run_forever\n",
      "    self._run_once()\n",
      "  File \"e:\\computer vision\\cv\\Lib\\asyncio\\base_events.py\", line 1909, in _run_once\n",
      "    handle._run()\n",
      "  File \"e:\\computer vision\\cv\\Lib\\asyncio\\events.py\", line 80, in _run\n",
      "    self._context.run(self._callback, *self._args)\n",
      "  File \"e:\\computer vision\\cv\\Lib\\site-packages\\ipykernel\\kernelbase.py\", line 545, in dispatch_queue\n",
      "    await self.process_one()\n",
      "  File \"e:\\computer vision\\cv\\Lib\\site-packages\\ipykernel\\kernelbase.py\", line 534, in process_one\n",
      "    await dispatch(*args)\n",
      "  File \"e:\\computer vision\\cv\\Lib\\site-packages\\ipykernel\\kernelbase.py\", line 437, in dispatch_shell\n",
      "    await result\n",
      "  File \"e:\\computer vision\\cv\\Lib\\site-packages\\ipykernel\\ipkernel.py\", line 362, in execute_request\n",
      "    await super().execute_request(stream, ident, parent)\n",
      "  File \"e:\\computer vision\\cv\\Lib\\site-packages\\ipykernel\\kernelbase.py\", line 778, in execute_request\n",
      "    reply_content = await reply_content\n",
      "  File \"e:\\computer vision\\cv\\Lib\\site-packages\\ipykernel\\ipkernel.py\", line 449, in do_execute\n",
      "    res = shell.run_cell(\n",
      "  File \"e:\\computer vision\\cv\\Lib\\site-packages\\ipykernel\\zmqshell.py\", line 549, in run_cell\n",
      "    return super().run_cell(*args, **kwargs)\n",
      "  File \"e:\\computer vision\\cv\\Lib\\site-packages\\IPython\\core\\interactiveshell.py\", line 3075, in run_cell\n",
      "    result = self._run_cell(\n",
      "  File \"e:\\computer vision\\cv\\Lib\\site-packages\\IPython\\core\\interactiveshell.py\", line 3130, in _run_cell\n",
      "    result = runner(coro)\n",
      "  File \"e:\\computer vision\\cv\\Lib\\site-packages\\IPython\\core\\async_helpers.py\", line 128, in _pseudo_sync_runner\n",
      "    coro.send(None)\n",
      "  File \"e:\\computer vision\\cv\\Lib\\site-packages\\IPython\\core\\interactiveshell.py\", line 3334, in run_cell_async\n",
      "    has_raised = await self.run_ast_nodes(code_ast.body, cell_name,\n",
      "  File \"e:\\computer vision\\cv\\Lib\\site-packages\\IPython\\core\\interactiveshell.py\", line 3517, in run_ast_nodes\n",
      "    if await self.run_code(code, result, async_=asy):\n",
      "  File \"e:\\computer vision\\cv\\Lib\\site-packages\\IPython\\core\\interactiveshell.py\", line 3577, in run_code\n",
      "    exec(code_obj, self.user_global_ns, self.user_ns)\n",
      "  File \"C:\\Users\\www58\\AppData\\Local\\Temp\\ipykernel_9856\\3485339326.py\", line 1, in <module>\n",
      "    initate_data_ingestion()\n",
      "  File \"C:\\Users\\www58\\AppData\\Local\\Temp\\ipykernel_9856\\4288450823.py\", line 27, in initate_data_ingestion\n",
      "    logging.info('error occured ',str(e))\n",
      "Message: 'error occured '\n",
      "Arguments: (\"name 'self' is not defined\",)\n"
     ]
    },
    {
     "ename": "AttributeError",
     "evalue": "'NameError' object has no attribute 'exc_info'",
     "output_type": "error",
     "traceback": [
      "\u001b[1;31m---------------------------------------------------------------------------\u001b[0m",
      "\u001b[1;31mNameError\u001b[0m                                 Traceback (most recent call last)",
      "Cell \u001b[1;32mIn[27], line 6\u001b[0m, in \u001b[0;36minitate_data_ingestion\u001b[1;34m()\u001b[0m\n\u001b[0;32m      2\u001b[0m \u001b[38;5;28;01mtry\u001b[39;00m:\n\u001b[0;32m      3\u001b[0m     \u001b[38;5;66;03m# download data\u001b[39;00m\n\u001b[0;32m      4\u001b[0m \n\u001b[0;32m      5\u001b[0m     \u001b[38;5;66;03m# folder url\u001b[39;00m\n\u001b[1;32m----> 6\u001b[0m     data_url\u001b[38;5;241m=\u001b[39m\u001b[38;5;28;43mself\u001b[39;49m\u001b[38;5;241m.\u001b[39mconfig\u001b[38;5;241m.\u001b[39murl\n\u001b[0;32m      7\u001b[0m     \u001b[38;5;66;03m# local download folder\u001b[39;00m\n",
      "\u001b[1;31mNameError\u001b[0m: name 'self' is not defined",
      "\nDuring handling of the above exception, another exception occurred:\n",
      "\u001b[1;31mAttributeError\u001b[0m                            Traceback (most recent call last)",
      "Cell \u001b[1;32mIn[32], line 1\u001b[0m\n\u001b[1;32m----> 1\u001b[0m \u001b[43minitate_data_ingestion\u001b[49m\u001b[43m(\u001b[49m\u001b[43m)\u001b[49m\n",
      "Cell \u001b[1;32mIn[27], line 28\u001b[0m, in \u001b[0;36minitate_data_ingestion\u001b[1;34m()\u001b[0m\n\u001b[0;32m     26\u001b[0m \u001b[38;5;28;01mexcept\u001b[39;00m \u001b[38;5;167;01mException\u001b[39;00m \u001b[38;5;28;01mas\u001b[39;00m e:\n\u001b[0;32m     27\u001b[0m     logging\u001b[38;5;241m.\u001b[39minfo(\u001b[38;5;124m'\u001b[39m\u001b[38;5;124merror occured \u001b[39m\u001b[38;5;124m'\u001b[39m,\u001b[38;5;28mstr\u001b[39m(e))\n\u001b[1;32m---> 28\u001b[0m     \u001b[38;5;28;01mraise\u001b[39;00m \u001b[43mCustomException\u001b[49m\u001b[43m(\u001b[49m\u001b[43msys\u001b[49m\u001b[43m,\u001b[49m\u001b[43me\u001b[49m\u001b[43m)\u001b[49m\n",
      "File \u001b[1;32me:\\computer vision\\object_detaction\\End-To-End-sign-Languge-Prediction\\signLanguage\\exception\\exception.py:23\u001b[0m, in \u001b[0;36mCustomException.__init__\u001b[1;34m(self, error_message, error_detail)\u001b[0m\n\u001b[0;32m     18\u001b[0m \u001b[38;5;250m\u001b[39m\u001b[38;5;124;03m\"\"\"\u001b[39;00m\n\u001b[0;32m     19\u001b[0m \u001b[38;5;124;03m:param error_message: error message in string format\u001b[39;00m\n\u001b[0;32m     20\u001b[0m \u001b[38;5;124;03m\"\"\"\u001b[39;00m\n\u001b[0;32m     21\u001b[0m \u001b[38;5;28msuper\u001b[39m()\u001b[38;5;241m.\u001b[39m\u001b[38;5;21m__init__\u001b[39m(error_message)\n\u001b[1;32m---> 23\u001b[0m \u001b[38;5;28mself\u001b[39m\u001b[38;5;241m.\u001b[39merror_message \u001b[38;5;241m=\u001b[39m \u001b[43merror_message_detail\u001b[49m\u001b[43m(\u001b[49m\n\u001b[0;32m     24\u001b[0m \u001b[43m    \u001b[49m\u001b[43merror_message\u001b[49m\u001b[43m,\u001b[49m\u001b[43m \u001b[49m\u001b[43merror_detail\u001b[49m\u001b[38;5;241;43m=\u001b[39;49m\u001b[43merror_detail\u001b[49m\n\u001b[0;32m     25\u001b[0m \u001b[43m\u001b[49m\u001b[43m)\u001b[49m\n",
      "File \u001b[1;32me:\\computer vision\\object_detaction\\End-To-End-sign-Languge-Prediction\\signLanguage\\exception\\exception.py:5\u001b[0m, in \u001b[0;36merror_message_detail\u001b[1;34m(error, error_detail)\u001b[0m\n\u001b[0;32m      4\u001b[0m \u001b[38;5;28;01mdef\u001b[39;00m \u001b[38;5;21merror_message_detail\u001b[39m(error, error_detail: sys):\n\u001b[1;32m----> 5\u001b[0m     _, _, exc_tb \u001b[38;5;241m=\u001b[39m \u001b[43merror_detail\u001b[49m\u001b[38;5;241;43m.\u001b[39;49m\u001b[43mexc_info\u001b[49m()\n\u001b[0;32m      7\u001b[0m     file_name \u001b[38;5;241m=\u001b[39m exc_tb\u001b[38;5;241m.\u001b[39mtb_frame\u001b[38;5;241m.\u001b[39mf_code\u001b[38;5;241m.\u001b[39mco_filename\n\u001b[0;32m      9\u001b[0m     error_message \u001b[38;5;241m=\u001b[39m \u001b[38;5;124m\"\u001b[39m\u001b[38;5;124mError occurred python script name [\u001b[39m\u001b[38;5;132;01m{0}\u001b[39;00m\u001b[38;5;124m] line number [\u001b[39m\u001b[38;5;132;01m{1}\u001b[39;00m\u001b[38;5;124m] error message [\u001b[39m\u001b[38;5;132;01m{2}\u001b[39;00m\u001b[38;5;124m]\u001b[39m\u001b[38;5;124m\"\u001b[39m\u001b[38;5;241m.\u001b[39mformat(\n\u001b[0;32m     10\u001b[0m         file_name, exc_tb\u001b[38;5;241m.\u001b[39mtb_lineno, \u001b[38;5;28mstr\u001b[39m(error)\n\u001b[0;32m     11\u001b[0m     )\n",
      "\u001b[1;31mAttributeError\u001b[0m: 'NameError' object has no attribute 'exc_info'"
     ]
    }
   ],
   "source": [
    "initate_data_ingestion()"
   ]
  },
  {
   "cell_type": "code",
   "execution_count": 20,
   "metadata": {},
   "outputs": [],
   "source": [
    "prefix='https://drive.google.com/drive/folders/1Hq6DnS3brg57ITAlAgUVpjRwTj3Cp4Sb?usp=sharing'\n"
   ]
  },
  {
   "cell_type": "code",
   "execution_count": 22,
   "metadata": {},
   "outputs": [],
   "source": [
    "id=prefix.split('/')[5]"
   ]
  },
  {
   "cell_type": "code",
   "execution_count": 15,
   "metadata": {},
   "outputs": [
    {
     "data": {
      "text/plain": [
       "'1Hq6DnS3brg57ITAlAgUVpjRwTj3Cp4Sb'"
      ]
     },
     "execution_count": 15,
     "metadata": {},
     "output_type": "execute_result"
    }
   ],
   "source": [
    "id"
   ]
  },
  {
   "cell_type": "code",
   "execution_count": 27,
   "metadata": {},
   "outputs": [
    {
     "name": "stderr",
     "output_type": "stream",
     "text": [
      "e:\\computer vision\\cv\\Lib\\http\\cookiejar.py:2080: UserWarning: http.cookiejar bug!\n",
      "Traceback (most recent call last):\n",
      "  File \"e:\\computer vision\\cv\\Lib\\http\\cookiejar.py\", line 2041, in _really_load\n",
      "    domain, domain_specified, path, secure, expires, name, value = \\\n",
      "    ^^^^^^^^^^^^^^^^^^^^^^^^^^^^^^^^^^^^^^^^^^^^^^^^^^^^^^^^^^^^\n",
      "ValueError: not enough values to unpack (expected 7, got 1)\n",
      "\n",
      "  _warn_unhandled_exception()\n"
     ]
    },
    {
     "ename": "LoadError",
     "evalue": "invalid Netscape format cookies file 'C:\\\\Users\\\\www58\\\\.cache/gdown/cookies.txt': 'h5531ng60kdl41a8r5fjsa9s5ov4mefa'",
     "output_type": "error",
     "traceback": [
      "\u001b[1;31m---------------------------------------------------------------------------\u001b[0m",
      "\u001b[1;31mValueError\u001b[0m                                Traceback (most recent call last)",
      "File \u001b[1;32me:\\computer vision\\cv\\Lib\\http\\cookiejar.py:2041\u001b[0m, in \u001b[0;36mMozillaCookieJar._really_load\u001b[1;34m(self, f, filename, ignore_discard, ignore_expires)\u001b[0m\n\u001b[0;32m   2039\u001b[0m     \u001b[38;5;28;01mcontinue\u001b[39;00m\n\u001b[1;32m-> 2041\u001b[0m domain, domain_specified, path, secure, expires, name, value \u001b[38;5;241m=\u001b[39m \\\n\u001b[0;32m   2042\u001b[0m         line\u001b[38;5;241m.\u001b[39msplit(\u001b[38;5;124m\"\u001b[39m\u001b[38;5;130;01m\\t\u001b[39;00m\u001b[38;5;124m\"\u001b[39m)\n\u001b[0;32m   2043\u001b[0m secure \u001b[38;5;241m=\u001b[39m (secure \u001b[38;5;241m==\u001b[39m \u001b[38;5;124m\"\u001b[39m\u001b[38;5;124mTRUE\u001b[39m\u001b[38;5;124m\"\u001b[39m)\n",
      "\u001b[1;31mValueError\u001b[0m: not enough values to unpack (expected 7, got 1)",
      "\nDuring handling of the above exception, another exception occurred:\n",
      "\u001b[1;31mLoadError\u001b[0m                                 Traceback (most recent call last)",
      "Cell \u001b[1;32mIn[27], line 10\u001b[0m\n\u001b[0;32m      5\u001b[0m url \u001b[38;5;241m=\u001b[39m \u001b[38;5;124m'\u001b[39m\u001b[38;5;124mhttps://universe.roboflow.com/ds/7chGpisplH?key=ZX8zBzwuVH\u001b[39m\u001b[38;5;124m'\u001b[39m\n\u001b[0;32m      9\u001b[0m \u001b[38;5;66;03m# Download the file.\u001b[39;00m\n\u001b[1;32m---> 10\u001b[0m \u001b[43mgdown\u001b[49m\u001b[38;5;241;43m.\u001b[39;49m\u001b[43mdownload\u001b[49m\u001b[43m(\u001b[49m\u001b[43murl\u001b[49m\u001b[43m)\u001b[49m\n\u001b[0;32m     12\u001b[0m \u001b[38;5;28mprint\u001b[39m(\u001b[38;5;124m\"\u001b[39m\u001b[38;5;124mDownload complete.\u001b[39m\u001b[38;5;124m\"\u001b[39m)\n",
      "File \u001b[1;32m~\\AppData\\Roaming\\Python\\Python311\\site-packages\\gdown\\download.py:186\u001b[0m, in \u001b[0;36mdownload\u001b[1;34m(url, output, quiet, proxy, speed, use_cookies, verify, id, fuzzy, resume, format, user_agent, log_messages)\u001b[0m\n\u001b[0;32m    182\u001b[0m     log_messages \u001b[38;5;241m=\u001b[39m {}\n\u001b[0;32m    184\u001b[0m url_origin \u001b[38;5;241m=\u001b[39m url\n\u001b[1;32m--> 186\u001b[0m sess, cookies_file \u001b[38;5;241m=\u001b[39m \u001b[43m_get_session\u001b[49m\u001b[43m(\u001b[49m\n\u001b[0;32m    187\u001b[0m \u001b[43m    \u001b[49m\u001b[43mproxy\u001b[49m\u001b[38;5;241;43m=\u001b[39;49m\u001b[43mproxy\u001b[49m\u001b[43m,\u001b[49m\n\u001b[0;32m    188\u001b[0m \u001b[43m    \u001b[49m\u001b[43muse_cookies\u001b[49m\u001b[38;5;241;43m=\u001b[39;49m\u001b[43muse_cookies\u001b[49m\u001b[43m,\u001b[49m\n\u001b[0;32m    189\u001b[0m \u001b[43m    \u001b[49m\u001b[43muser_agent\u001b[49m\u001b[38;5;241;43m=\u001b[39;49m\u001b[43muser_agent\u001b[49m\u001b[43m,\u001b[49m\n\u001b[0;32m    190\u001b[0m \u001b[43m    \u001b[49m\u001b[43mreturn_cookies_file\u001b[49m\u001b[38;5;241;43m=\u001b[39;49m\u001b[38;5;28;43;01mTrue\u001b[39;49;00m\u001b[43m,\u001b[49m\n\u001b[0;32m    191\u001b[0m \u001b[43m\u001b[49m\u001b[43m)\u001b[49m\n\u001b[0;32m    193\u001b[0m gdrive_file_id, is_gdrive_download_link \u001b[38;5;241m=\u001b[39m parse_url(url, warning\u001b[38;5;241m=\u001b[39m\u001b[38;5;129;01mnot\u001b[39;00m fuzzy)\n\u001b[0;32m    195\u001b[0m \u001b[38;5;28;01mif\u001b[39;00m fuzzy \u001b[38;5;129;01mand\u001b[39;00m gdrive_file_id:\n\u001b[0;32m    196\u001b[0m     \u001b[38;5;66;03m# overwrite the url with fuzzy match of a file id\u001b[39;00m\n",
      "File \u001b[1;32m~\\AppData\\Roaming\\Python\\Python311\\site-packages\\gdown\\download.py:104\u001b[0m, in \u001b[0;36m_get_session\u001b[1;34m(proxy, use_cookies, user_agent, return_cookies_file)\u001b[0m\n\u001b[0;32m    102\u001b[0m \u001b[38;5;28;01mif\u001b[39;00m use_cookies \u001b[38;5;129;01mand\u001b[39;00m osp\u001b[38;5;241m.\u001b[39mexists(cookies_file):\n\u001b[0;32m    103\u001b[0m     cookie_jar \u001b[38;5;241m=\u001b[39m MozillaCookieJar(cookies_file)\n\u001b[1;32m--> 104\u001b[0m     \u001b[43mcookie_jar\u001b[49m\u001b[38;5;241;43m.\u001b[39;49m\u001b[43mload\u001b[49m\u001b[43m(\u001b[49m\u001b[43m)\u001b[49m\n\u001b[0;32m    105\u001b[0m     sess\u001b[38;5;241m.\u001b[39mcookies\u001b[38;5;241m.\u001b[39mupdate(cookie_jar)\n\u001b[0;32m    107\u001b[0m \u001b[38;5;28;01mif\u001b[39;00m return_cookies_file:\n",
      "File \u001b[1;32me:\\computer vision\\cv\\Lib\\http\\cookiejar.py:1802\u001b[0m, in \u001b[0;36mFileCookieJar.load\u001b[1;34m(self, filename, ignore_discard, ignore_expires)\u001b[0m\n\u001b[0;32m   1799\u001b[0m     \u001b[38;5;28;01melse\u001b[39;00m: \u001b[38;5;28;01mraise\u001b[39;00m \u001b[38;5;167;01mValueError\u001b[39;00m(MISSING_FILENAME_TEXT)\n\u001b[0;32m   1801\u001b[0m \u001b[38;5;28;01mwith\u001b[39;00m \u001b[38;5;28mopen\u001b[39m(filename) \u001b[38;5;28;01mas\u001b[39;00m f:\n\u001b[1;32m-> 1802\u001b[0m     \u001b[38;5;28;43mself\u001b[39;49m\u001b[38;5;241;43m.\u001b[39;49m\u001b[43m_really_load\u001b[49m\u001b[43m(\u001b[49m\u001b[43mf\u001b[49m\u001b[43m,\u001b[49m\u001b[43m \u001b[49m\u001b[43mfilename\u001b[49m\u001b[43m,\u001b[49m\u001b[43m \u001b[49m\u001b[43mignore_discard\u001b[49m\u001b[43m,\u001b[49m\u001b[43m \u001b[49m\u001b[43mignore_expires\u001b[49m\u001b[43m)\u001b[49m\n",
      "File \u001b[1;32me:\\computer vision\\cv\\Lib\\http\\cookiejar.py:2081\u001b[0m, in \u001b[0;36mMozillaCookieJar._really_load\u001b[1;34m(self, f, filename, ignore_discard, ignore_expires)\u001b[0m\n\u001b[0;32m   2079\u001b[0m \u001b[38;5;28;01mexcept\u001b[39;00m \u001b[38;5;167;01mException\u001b[39;00m:\n\u001b[0;32m   2080\u001b[0m     _warn_unhandled_exception()\n\u001b[1;32m-> 2081\u001b[0m     \u001b[38;5;28;01mraise\u001b[39;00m LoadError(\u001b[38;5;124m\"\u001b[39m\u001b[38;5;124minvalid Netscape format cookies file \u001b[39m\u001b[38;5;132;01m%r\u001b[39;00m\u001b[38;5;124m: \u001b[39m\u001b[38;5;132;01m%r\u001b[39;00m\u001b[38;5;124m\"\u001b[39m \u001b[38;5;241m%\u001b[39m\n\u001b[0;32m   2082\u001b[0m                     (filename, line))\n",
      "\u001b[1;31mLoadError\u001b[0m: invalid Netscape format cookies file 'C:\\\\Users\\\\www58\\\\.cache/gdown/cookies.txt': 'h5531ng60kdl41a8r5fjsa9s5ov4mefa'"
     ]
    }
   ],
   "source": [
    "import gdown\n",
    "\n",
    "# Replace 'your_file_id_here' with the actual file ID from your Google Drive URL.\n",
    "file_id = id\n",
    "url = 'https://universe.roboflow.com/ds/7chGpisplH?key=ZX8zBzwuVH'\n",
    "\n",
    "\n",
    "\n",
    "# Download the file.\n",
    "gdown.download(url)\n",
    "\n",
    "print(\"Download complete.\")\n"
   ]
  },
  {
   "cell_type": "code",
   "execution_count": 29,
   "metadata": {},
   "outputs": [
    {
     "name": "stdout",
     "output_type": "stream",
     "text": [
      "Download complete.\n"
     ]
    },
    {
     "ename": "",
     "evalue": "",
     "output_type": "error",
     "traceback": [
      "\u001b[1;31mThe Kernel crashed while executing code in the current cell or a previous cell. \n",
      "\u001b[1;31mPlease review the code in the cell(s) to identify a possible cause of the failure. \n",
      "\u001b[1;31mClick <a href='https://aka.ms/vscodeJupyterKernelCrash'>here</a> for more info. \n",
      "\u001b[1;31mView Jupyter <a href='command:jupyter.viewOutput'>log</a> for further details."
     ]
    }
   ],
   "source": [
    "import requests\n",
    "\n",
    "\n",
    "\n",
    "# Specify the output file name.\n",
    "output_file = 'output_file.zip'\n",
    "\n",
    "# Send a GET request to the URL.\n",
    "response = requests.get(url)\n",
    "\n",
    "# Check if the request was successful.\n",
    "if response.status_code == 200:\n",
    "    # Open a local file with write-binary mode.\n",
    "    with open(output_file, 'wb') as file:\n",
    "        # Write the content of the response (file) to the local file.\n",
    "        file.write(response.content)\n",
    "    print(\"Download complete.\")\n",
    "else:\n",
    "    print(\"Failed to download file. Status code:\", response.status_code)\n"
   ]
  },
  {
   "cell_type": "code",
   "execution_count": 1,
   "metadata": {},
   "outputs": [],
   "source": [
    "import requests"
   ]
  },
  {
   "cell_type": "code",
   "execution_count": 9,
   "metadata": {},
   "outputs": [],
   "source": [
    "url='https://universe.roboflow.com/ds/2vScLVdC10?key=ssS8KdEzkb'"
   ]
  },
  {
   "cell_type": "code",
   "execution_count": 10,
   "metadata": {},
   "outputs": [],
   "source": [
    "response=requests.get(url,)\n"
   ]
  },
  {
   "cell_type": "code",
   "execution_count": 12,
   "metadata": {},
   "outputs": [],
   "source": [
    "with open('Sign_language_data.zip', 'wb') as file:\n",
    "    file.write(response.content)"
   ]
  },
  {
   "cell_type": "code",
   "execution_count": 13,
   "metadata": {},
   "outputs": [
    {
     "name": "stdout",
     "output_type": "stream",
     "text": [
      "ZIP file extracted successfully.\n"
     ]
    }
   ],
   "source": [
    "import zipfile\n",
    "import os\n",
    "\n",
    "# Define the path to the downloaded ZIP file\n",
    "zip_file_path = 'Sign_language_data.zip'\n",
    "\n",
    "# Define the directory where you want to extract the contents\n",
    "extract_to_dir = 'extracted_data'\n",
    "\n",
    "# Create the directory if it doesn't exist\n",
    "os.makedirs(extract_to_dir, exist_ok=True)\n",
    "\n",
    "# Open the ZIP file and extract its contents\n",
    "with zipfile.ZipFile(zip_file_path, 'r') as zip_ref:\n",
    "    zip_ref.extractall(extract_to_dir)\n",
    "\n",
    "print(\"ZIP file extracted successfully.\")\n"
   ]
  },
  {
   "cell_type": "code",
   "execution_count": null,
   "metadata": {},
   "outputs": [],
   "source": []
  }
 ],
 "metadata": {
  "kernelspec": {
   "display_name": "Python 3",
   "language": "python",
   "name": "python3"
  },
  "language_info": {
   "codemirror_mode": {
    "name": "ipython",
    "version": 3
   },
   "file_extension": ".py",
   "mimetype": "text/x-python",
   "name": "python",
   "nbconvert_exporter": "python",
   "pygments_lexer": "ipython3",
   "version": "3.11.0"
  }
 },
 "nbformat": 4,
 "nbformat_minor": 2
}
